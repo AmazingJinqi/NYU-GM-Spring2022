{
 "cells": [
  {
   "cell_type": "code",
   "execution_count": 1,
   "metadata": {
    "scrolled": true
   },
   "outputs": [],
   "source": [
    "import numpy as np\n",
    "import igl\n",
    "import meshplot as mp\n",
    "import itertools"
   ]
  },
  {
   "cell_type": "code",
   "execution_count": 2,
   "metadata": {},
   "outputs": [],
   "source": [
    "# Global Variables\n",
    "wendlandRadius = 20\n",
    "polyDegree = 1\n",
    "resolution = 50\n",
    "accelerate = True"
   ]
  },
  {
   "cell_type": "code",
   "execution_count": 3,
   "metadata": {
    "scrolled": true
   },
   "outputs": [],
   "source": [
    "# Utility function to generate a tet grid\n",
    "# n is a 3-tuple with the number of cell in every direction\n",
    "# mmin/mmax are the grid bounding box corners\n",
    "\n",
    "def tet_grid(n, mmin, mmax):\n",
    "    nx = n[0]\n",
    "    ny = n[1]\n",
    "    nz = n[2]\n",
    "    \n",
    "    delta = mmax-mmin\n",
    "    \n",
    "    deltax = delta[0]/(nx-1)\n",
    "    deltay = delta[1]/(ny-1)\n",
    "    deltaz = delta[2]/(nz-1)\n",
    "    \n",
    "    T = np.zeros(((nx-1)*(ny-1)*(nz-1)*6, 4), dtype=np.int64)\n",
    "    V = np.zeros((nx*ny*nz, 3))\n",
    "\n",
    "    mapping = -np.ones((nx, ny, nz), dtype=np.int64)\n",
    "\n",
    "\n",
    "    index = 0\n",
    "    for i in range(nx):\n",
    "        for j in range(ny):\n",
    "            for k in range(nz):\n",
    "                mapping[i, j, k] = index\n",
    "                V[index, :] = [i*deltax, j*deltay, k*deltaz]\n",
    "                index += 1\n",
    "    assert(index == V.shape[0])\n",
    "    \n",
    "    tets = np.array([\n",
    "        [0,1,3,4],\n",
    "        [5,2,6,7],\n",
    "        [4,1,5,3],\n",
    "        [4,3,7,5],\n",
    "        [3,1,5,2],\n",
    "        [2,3,7,5]\n",
    "    ])\n",
    "    \n",
    "    index = 0\n",
    "    for i in range(nx-1):\n",
    "        for j in range(ny-1):\n",
    "            for k in range(nz-1):\n",
    "                indices = [\n",
    "                    (i,   j,   k),\n",
    "                    (i+1, j,   k),\n",
    "                    (i+1, j+1, k),\n",
    "                    (i,   j+1, k),\n",
    "\n",
    "                    (i,   j,   k+1),\n",
    "                    (i+1, j,   k+1),\n",
    "                    (i+1, j+1, k+1),\n",
    "                    (i,   j+1, k+1),\n",
    "                ]\n",
    "                \n",
    "                for t in range(tets.shape[0]):\n",
    "                    tmp = [mapping[indices[ii]] for ii in tets[t, :]]\n",
    "                    T[index, :]=tmp\n",
    "                    index += 1\n",
    "                    \n",
    "    assert(index == T.shape[0])\n",
    "    \n",
    "    V += mmin\n",
    "    return V, T"
   ]
  },
  {
   "cell_type": "markdown",
   "metadata": {},
   "source": [
    "# Reading point cloud (for cat)"
   ]
  },
  {
   "cell_type": "code",
   "execution_count": 4,
   "metadata": {},
   "outputs": [
    {
     "name": "stderr",
     "output_type": "stream",
     "text": [
      "D:\\Anaconda\\envs\\GM\\lib\\site-packages\\jupyter_client\\session.py:716: UserWarning: Message serialization failed with:\n",
      "Out of range float values are not JSON compliant\n",
      "Supporting this message is deprecated in jupyter-client 7, please make sure your message is JSON-compliant\n",
      "  content = self.pack(content)\n"
     ]
    },
    {
     "data": {
      "application/vnd.jupyter.widget-view+json": {
       "model_id": "133ae33d3bf24166adc58da5ea96dc09",
       "version_major": 2,
       "version_minor": 0
      },
      "text/plain": [
       "Renderer(camera=PerspectiveCamera(children=(DirectionalLight(color='white', intensity=0.6, position=(23.5, -46…"
      ]
     },
     "metadata": {},
     "output_type": "display_data"
    },
    {
     "data": {
      "text/plain": [
       "<meshplot.Viewer.Viewer at 0x277e8f8c4c0>"
      ]
     },
     "execution_count": 4,
     "metadata": {},
     "output_type": "execute_result"
    }
   ],
   "source": [
    "pi, v = igl.read_triangle_mesh(\"data/cat.off\")\n",
    "pi = np.dot(pi, np.array([[0, 0, -1], [-1, 0, 0], [0, 1, 0]]))\n",
    "pi /= 10\n",
    "ni = igl.per_vertex_normals(pi, v)\n",
    "ni = np.array([n/np.linalg.norm(n) for n in ni])\n",
    "mp.plot(pi, shading={\"point_size\": 8, \"point_color\": \"black\"})"
   ]
  },
  {
   "cell_type": "markdown",
   "metadata": {},
   "source": [
    "# Using a non-axis-aligned grid (for luigi)"
   ]
  },
  {
   "cell_type": "code",
   "execution_count": 5,
   "metadata": {},
   "outputs": [],
   "source": [
    "# pi, v = igl.read_triangle_mesh(\"data/luigi.off\")\n",
    "# pi /= 10\n",
    "# ni = igl.per_vertex_normals(pi, v)\n",
    "# ni = np.array([n/np.linalg.norm(n) for n in ni])\n",
    "\n",
    "# pi = pi - np.mean(pi, axis=0)\n",
    "# cov = np.cov(pi, rowvar=False)\n",
    "# eigen_values, eigen_vectors = np.linalg.eig(cov)\n",
    "# pi = np.dot(pi, eigen_vectors)\n",
    "# pi = np.dot(pi, np.array([[0, -1, 0], [1, 0, 0], [0, 0, 1]]))\n",
    "# ni = np.dot(ni, eigen_vectors)\n",
    "# ni = np.dot(ni, np.array([[0, -1, 0], [1, 0, 0], [0, 0, 1]]))\n",
    "\n",
    "# mp.plot(pi, shading={\"point_size\": 1, \"point_color\": \"black\"})"
   ]
  },
  {
   "cell_type": "markdown",
   "metadata": {},
   "source": [
    "# Implementing a spatial index to accelerate neighbor calculations"
   ]
  },
  {
   "cell_type": "code",
   "execution_count": 6,
   "metadata": {},
   "outputs": [],
   "source": [
    "def get_index(point):\n",
    "    return ((point - grid_min) / wendlandRadius).astype(int)"
   ]
  },
  {
   "cell_type": "code",
   "execution_count": 7,
   "metadata": {},
   "outputs": [],
   "source": [
    "def get_adjacent_index(point):\n",
    "    # include itself\n",
    "    index = get_index(point)\n",
    "#     print(index)\n",
    "    return [i for i in itertools.product([index[0] - 1, index[0],index[0] + 1], \n",
    "                                         [index[1] - 1, index[1],index[1] + 1],\n",
    "                                         [index[2] - 1, index[2],index[2] + 1])]"
   ]
  },
  {
   "cell_type": "code",
   "execution_count": 8,
   "metadata": {},
   "outputs": [],
   "source": [
    "bbox_min = np.min(pi, axis=0)\n",
    "bbox_max = np.max(pi, axis=0)\n",
    "bbox_diag = np.linalg.norm(bbox_max - bbox_min)\n",
    "\n",
    "bbox_min_enlarge = bbox_min - 0.1 * bbox_diag\n",
    "bbox_max_enlarge = bbox_max + 0.1 * bbox_diag\n",
    "grid_min = bbox_min_enlarge - wendlandRadius\n",
    "grid_max = bbox_max_enlarge + wendlandRadius\n",
    "grid_nb = np.ceil((grid_max - grid_min) / wendlandRadius).astype(int)\n",
    "\n",
    "pi_spatial_index = [[[[] for i in range(grid_nb[2])] for j in range(grid_nb[1])] for k in range(grid_nb[0])]\n",
    "for i, pii in enumerate(pi):\n",
    "    index = get_index(pii)\n",
    "    pi_spatial_index[index[0]][index[1]][index[2]].append(i)"
   ]
  },
  {
   "cell_type": "markdown",
   "metadata": {},
   "source": [
    "# Setting up the Constraints"
   ]
  },
  {
   "cell_type": "code",
   "execution_count": 9,
   "metadata": {},
   "outputs": [],
   "source": [
    "def get_adjacent_points(point, points):\n",
    "    grid_indices = get_adjacent_index(point)\n",
    "    point_indices = []\n",
    "    for grid_index in grid_indices:\n",
    "        if points.shape[0] == pi.shape[0]:\n",
    "            point_indices += pi_spatial_index[grid_index[0]][grid_index[1]][grid_index[2]]\n",
    "        elif points.shape[0] == p.shape[0]:\n",
    "            point_indices += p_spatial_index[grid_index[0]][grid_index[1]][grid_index[2]]\n",
    "    return point_indices"
   ]
  },
  {
   "cell_type": "code",
   "execution_count": 10,
   "metadata": {},
   "outputs": [],
   "source": [
    "# Utility function to retreives the index of the colosest point to point in points\n",
    "def find_closed_point(point, points):\n",
    "    index = 0\n",
    "    distance = float('inf')\n",
    "    if accelerate:\n",
    "        for i in get_adjacent_points(point, points):\n",
    "            dis = np.linalg.norm(pi[i] - point)\n",
    "            if dis < distance:\n",
    "                distance = dis\n",
    "                index = i\n",
    "    else:\n",
    "        for i, pj in enumerate(points):\n",
    "            dis = np.linalg.norm(pj - point)\n",
    "            if dis < distance:\n",
    "                distance = dis\n",
    "                index = i\n",
    "    return index"
   ]
  },
  {
   "cell_type": "code",
   "execution_count": 11,
   "metadata": {},
   "outputs": [],
   "source": [
    "pi_plus = np.zeros_like(pi)\n",
    "for i, pii in enumerate(pi):\n",
    "    eps = 0.01 * bbox_diag\n",
    "    while True:\n",
    "        pii_plus = pii + eps * ni[i]\n",
    "        if i != find_closed_point(pii_plus, pi):\n",
    "            eps /= 2\n",
    "        else:\n",
    "            pi_plus[i] = pii_plus\n",
    "            break\n",
    "\n",
    "pi_minus = np.zeros_like(pi)\n",
    "for i, pii in enumerate(pi):\n",
    "    eps = 0.01 * bbox_diag\n",
    "    while True:\n",
    "        pii_minus = pii - eps * ni[i]\n",
    "        if i != find_closed_point(pii_minus, pi):\n",
    "            eps /= 2\n",
    "        else:\n",
    "            pi_minus[i] = pii_minus\n",
    "            break\n",
    "\n",
    "p = np.vstack((pi, pi_plus, pi_minus))\n",
    "f = np.hstack(([0] * pi.shape[0], [eps] * pi.shape[0], [-eps] * pi.shape[0]))\n",
    "# p = pi\n",
    "# f = np.array([0] * pi.shape[0])"
   ]
  },
  {
   "cell_type": "code",
   "execution_count": 12,
   "metadata": {},
   "outputs": [
    {
     "data": {
      "application/vnd.jupyter.widget-view+json": {
       "model_id": "6a8907cc7f7f4318a6f908a88e35270d",
       "version_major": 2,
       "version_minor": 0
      },
      "text/plain": [
       "Renderer(camera=PerspectiveCamera(children=(DirectionalLight(color='white', intensity=0.6, position=(23.525246…"
      ]
     },
     "metadata": {},
     "output_type": "display_data"
    }
   ],
   "source": [
    "color = np.zeros((f.shape[0], 3))\n",
    "color[f == 0] = [0, 0, 255]\n",
    "color[f > 0] = [255, 0, 0]\n",
    "color[f < 0] = [0, 255, 0]\n",
    "plot = mp.plot(p, c=color, shading={\"point_size\": 8}, return_plot=True)"
   ]
  },
  {
   "cell_type": "markdown",
   "metadata": {},
   "source": [
    "# Use MLS interpolation to extend to function f"
   ]
  },
  {
   "cell_type": "markdown",
   "metadata": {},
   "source": [
    "## Create a grid sampling the 3D space"
   ]
  },
  {
   "cell_type": "code",
   "execution_count": 13,
   "metadata": {
    "scrolled": true
   },
   "outputs": [],
   "source": [
    "# Generate grid n x n x n\n",
    "x, T = tet_grid((resolution, resolution, resolution), bbox_min_enlarge, bbox_max_enlarge)"
   ]
  },
  {
   "cell_type": "code",
   "execution_count": 14,
   "metadata": {},
   "outputs": [],
   "source": [
    "p_spatial_index = [[[[] for i in range(grid_nb[2])] for j in range(grid_nb[1])] for k in range(grid_nb[0])]\n",
    "for i, pii in enumerate(pi):\n",
    "    index = get_index(pii)\n",
    "    p_spatial_index[index[0]][index[1]][index[2]].append(i)\n",
    "for i, pii in enumerate(pi_plus):\n",
    "    index = get_index(pii)\n",
    "    p_spatial_index[index[0]][index[1]][index[2]].append(i + pi.shape[0])\n",
    "for i, pii in enumerate(pi_minus):\n",
    "    index = get_index(pii)\n",
    "    p_spatial_index[index[0]][index[1]][index[2]].append(i + pi.shape[0] * 2)"
   ]
  },
  {
   "cell_type": "markdown",
   "metadata": {},
   "source": [
    "## MLS Interpolation"
   ]
  },
  {
   "cell_type": "code",
   "execution_count": 15,
   "metadata": {},
   "outputs": [],
   "source": [
    "def closest_points(point, points, h):\n",
    "    if accelerate:\n",
    "        return np.array([i for i in get_adjacent_points(point, points) if np.linalg.norm(points[i] - point) < h])\n",
    "    else:\n",
    "        return np.array([i for i, pj in enumerate(points) if np.linalg.norm(pj - point) < h])"
   ]
  },
  {
   "cell_type": "code",
   "execution_count": 16,
   "metadata": {},
   "outputs": [],
   "source": [
    "def wendland(r):\n",
    "    return (1 - r / wendlandRadius) ** 4 * (4 * r / wendlandRadius + 1)"
   ]
  },
  {
   "cell_type": "code",
   "execution_count": 17,
   "metadata": {},
   "outputs": [],
   "source": [
    "def implicit_function(x):\n",
    "    indices = closest_points(x, p, wendlandRadius)\n",
    "    coef_num = {0: 1, 1: 4, 2: 10}\n",
    "#     if np.sum(bbox_min - x > 0) > 0 or np.sum(x - bbox_max > 0) > 0:\n",
    "#         return 100\n",
    "    if len(indices) < 2 * coef_num[polyDegree]:\n",
    "        return 100\n",
    "    B = np.zeros((len(indices), coef_num[polyDegree]))\n",
    "    d = np.array([f[i] for i in indices])\n",
    "    W = np.zeros((len(indices), len(indices)))\n",
    "    for i, j in enumerate(indices):\n",
    "        if polyDegree == 0:\n",
    "            B[i] = np.array([1])\n",
    "        elif polyDegree == 1:\n",
    "            B[i] = np.array([1, p[j][0], p[j][1], p[j][2]])\n",
    "        elif polyDegree == 2:\n",
    "            B[i] = np.array([1, p[j][0], p[j][1], p[j][2], p[j][0] * p[j][0], p[j][0] * p[j][1],\n",
    "                          p[j][0] * p[j][2], p[j][1] * p[j][1], p[j][1] * p[j][2], p[j][2] * p[j][2]])\n",
    "        W[i][i] = wendland(np.linalg.norm(x - p[j]))\n",
    "    a = np.linalg.solve(np.dot(np.dot(B.T, W), B), np.dot(np.dot(B.T, W), d))\n",
    "    \n",
    "    if polyDegree == 0:\n",
    "        Bx = np.array([1])\n",
    "    elif polyDegree == 1:\n",
    "        Bx = np.array([1, x[0], x[1], x[2]])\n",
    "    elif polyDegree == 2:\n",
    "        Bx = np.array([1, x[0], x[1], x[2], x[0] * x[0], x[0] * x[1], x[0] * x[2], x[1] * x[1], x[1] * x[2], x[2] * x[2]])\n",
    "    return np.dot(Bx, a)"
   ]
  },
  {
   "cell_type": "code",
   "execution_count": 18,
   "metadata": {
    "scrolled": true
   },
   "outputs": [],
   "source": [
    "#Compute implicit function\n",
    "fx = np.array([implicit_function(xi) for xi in x])"
   ]
  },
  {
   "cell_type": "code",
   "execution_count": 19,
   "metadata": {},
   "outputs": [
    {
     "data": {
      "application/vnd.jupyter.widget-view+json": {
       "model_id": "3ad90e52c01540edb3a5ceaa3c6a5935",
       "version_major": 2,
       "version_minor": 0
      },
      "text/plain": [
       "Renderer(camera=PerspectiveCamera(children=(DirectionalLight(color='white', intensity=0.6, position=(23.500001…"
      ]
     },
     "metadata": {},
     "output_type": "display_data"
    },
    {
     "data": {
      "text/plain": [
       "<meshplot.Viewer.Viewer at 0x277e9fdb8b0>"
      ]
     },
     "execution_count": 19,
     "metadata": {},
     "output_type": "execute_result"
    }
   ],
   "source": [
    "# Treshold fx to visualize inside outside\n",
    "ind = np.zeros((len(fx), 3))\n",
    "ind[fx >= 0] = [255, 0, 0]\n",
    "ind[fx < 0] = [0, 255, 0]\n",
    "mp.plot(x, c=ind, shading={\"point_size\": 8,\"width\": 800, \"height\": 800})"
   ]
  },
  {
   "cell_type": "markdown",
   "metadata": {},
   "source": [
    "# Extracting the surface"
   ]
  },
  {
   "cell_type": "code",
   "execution_count": 20,
   "metadata": {},
   "outputs": [
    {
     "data": {
      "application/vnd.jupyter.widget-view+json": {
       "model_id": "ec0febbdcdbc410fb97607345b27d7a8",
       "version_major": 2,
       "version_minor": 0
      },
      "text/plain": [
       "Renderer(camera=PerspectiveCamera(children=(DirectionalLight(color='white', intensity=0.6, position=(19.395206…"
      ]
     },
     "metadata": {},
     "output_type": "display_data"
    },
    {
     "data": {
      "text/plain": [
       "<meshplot.Viewer.Viewer at 0x277e98ca6a0>"
      ]
     },
     "execution_count": 20,
     "metadata": {},
     "output_type": "execute_result"
    }
   ],
   "source": [
    "# Marcing tet to extract surface\n",
    "sv, sf, _, _ = igl.marching_tets(x, T, fx, 0)\n",
    "sf_index = igl.face_components(sf)\n",
    "num_dict = {}\n",
    "for num in sf_index:\n",
    "    num_dict[num] = num_dict[num] + 1 if num in num_dict.keys() else 1\n",
    "max_index = max(num_dict,key=num_dict.get)\n",
    "sf_new = np.array([sf[i] for i, index in enumerate(sf_index) if index == max_index])\n",
    "mp.plot(sv, sf_new, shading={\"wireframe\": True} )"
   ]
  },
  {
   "cell_type": "markdown",
   "metadata": {},
   "source": [
    "# Optional Task"
   ]
  },
  {
   "cell_type": "code",
   "execution_count": 21,
   "metadata": {},
   "outputs": [],
   "source": [
    "def implicit_function_optional(x):\n",
    "    indices = closest_points(x, pi, wendlandRadius)\n",
    "    coef_num = {0: 1, 1: 4, 2: 10}\n",
    "    if len(indices) < 2 * coef_num[polyDegree]:\n",
    "        return 100\n",
    "    B = np.zeros((len(indices), coef_num[polyDegree]))\n",
    "    d = np.array([(f[i] + np.dot((x - pi[i]).T, ni[i])) for i in indices])\n",
    "    W = np.zeros((len(indices), len(indices)))\n",
    "    for i, j in enumerate(indices):\n",
    "        if polyDegree == 0:\n",
    "            B[i] = np.array([1])\n",
    "        elif polyDegree == 1:\n",
    "            B[i] = np.array([1, p[j][0], p[j][1], p[j][2]])\n",
    "        elif polyDegree == 2:\n",
    "            B[i] = np.array([1, p[j][0], p[j][1], p[j][2], p[j][0] * p[j][0], p[j][0] * p[j][1],\n",
    "                          p[j][0] * p[j][2], p[j][1] * p[j][1], p[j][1] * p[j][2], p[j][2] * p[j][2]])\n",
    "        W[i][i] = wendland(np.linalg.norm(x - p[j]))\n",
    "    a = np.linalg.solve(np.dot(np.dot(B.T, W), B), np.dot(np.dot(B.T, W), d))\n",
    "    \n",
    "    if polyDegree == 0:\n",
    "        Bx = np.array([1])\n",
    "    elif polyDegree == 1:\n",
    "        Bx = np.array([1, x[0], x[1], x[2]])\n",
    "    elif polyDegree == 2:\n",
    "        Bx = np.array([1, x[0], x[1], x[2], x[0] * x[0], x[0] * x[1], x[0] * x[2], x[1] * x[1], x[1] * x[2], x[2] * x[2]])\n",
    "    return np.dot(Bx, a)"
   ]
  },
  {
   "cell_type": "code",
   "execution_count": 22,
   "metadata": {},
   "outputs": [],
   "source": [
    "#Compute implicit function\n",
    "fx_optional = np.array([implicit_function_optional(xi) for xi in x])"
   ]
  },
  {
   "cell_type": "code",
   "execution_count": 23,
   "metadata": {},
   "outputs": [
    {
     "data": {
      "application/vnd.jupyter.widget-view+json": {
       "model_id": "35b99077af7641eda3a4c47f82bf647f",
       "version_major": 2,
       "version_minor": 0
      },
      "text/plain": [
       "Renderer(camera=PerspectiveCamera(children=(DirectionalLight(color='white', intensity=0.6, position=(22.531221…"
      ]
     },
     "metadata": {},
     "output_type": "display_data"
    },
    {
     "data": {
      "text/plain": [
       "<meshplot.Viewer.Viewer at 0x277e98ca4c0>"
      ]
     },
     "execution_count": 23,
     "metadata": {},
     "output_type": "execute_result"
    }
   ],
   "source": [
    "# Marcing tet to extract surface\n",
    "sv_optional, sf_optional, _, _ = igl.marching_tets(x, T, fx_optional, 0)\n",
    "sf_index_optional = igl.face_components(sf_optional)\n",
    "num_dict_optional = {}\n",
    "for num in sf_index_optional:\n",
    "    num_dict_optional[num] = num_dict_optional[num] + 1 if num in num_dict_optional.keys() else 1\n",
    "max_index_optional = max(num_dict_optional,key=num_dict_optional.get)\n",
    "sf_new_optional = np.array([sf_optional[i] for i, index in enumerate(sf_index_optional) if index == max_index_optional])\n",
    "mp.plot(sv_optional, sf_new_optional, shading={\"wireframe\": True})"
   ]
  },
  {
   "cell_type": "code",
   "execution_count": null,
   "metadata": {},
   "outputs": [],
   "source": []
  }
 ],
 "metadata": {
  "kernelspec": {
   "display_name": "Python 3 (ipykernel)",
   "language": "python",
   "name": "python3"
  },
  "language_info": {
   "codemirror_mode": {
    "name": "ipython",
    "version": 3
   },
   "file_extension": ".py",
   "mimetype": "text/x-python",
   "name": "python",
   "nbconvert_exporter": "python",
   "pygments_lexer": "ipython3",
   "version": "3.8.12"
  }
 },
 "nbformat": 4,
 "nbformat_minor": 4
}
