{
 "cells": [
  {
   "cell_type": "markdown",
   "metadata": {},
   "source": [
    "# Assigment 4"
   ]
  },
  {
   "cell_type": "code",
   "execution_count": 1,
   "metadata": {},
   "outputs": [],
   "source": [
    "import math\n",
    "import numpy as np\n",
    "from numpy import matlib\n",
    "import scipy.sparse as sp\n",
    "\n",
    "import igl\n",
    "import meshplot as mp\n",
    "\n",
    "from math import sqrt"
   ]
  },
  {
   "cell_type": "code",
   "execution_count": 2,
   "metadata": {},
   "outputs": [],
   "source": [
    "v, f = igl.read_triangle_mesh(\"data/irr4-cyl2.off\")\n",
    "tt, _ = igl.triangle_triangle_adjacency(f)\n",
    "c = np.loadtxt(\"data/irr4-cyl2.constraints\")\n",
    "cf = c[:, 0].astype(np.int64)\n",
    "c = c[:, 1:]"
   ]
  },
  {
   "cell_type": "markdown",
   "metadata": {},
   "source": [
    "# 1. Tangent vector fields for scalar field design"
   ]
  },
  {
   "cell_type": "markdown",
   "metadata": {},
   "source": [
    "![title](img_ipynb/1.png)"
   ]
  },
  {
   "cell_type": "code",
   "execution_count": 3,
   "metadata": {},
   "outputs": [],
   "source": [
    "def align_field(V, F, TT, hard_id, hard_value):\n",
    "    assert(hard_id[0] > 0)\n",
    "    assert(hard_id.shape[0] == hard_value.shape[0])\n",
    "\n",
    "    \n",
    "    # Edges\n",
    "    e1 = V[F[:, 1], :] - V[F[:, 0], :]\n",
    "    e2 = V[F[:, 2], :] - V[F[:, 0], :]\n",
    "\n",
    "    # Compute the local reference systems for each face, T1, T2\n",
    "    T1 = e1 / np.linalg.norm(e1, axis=1)[:,None]\n",
    "        \n",
    "    T2 =  np.cross(T1, np.cross(T1, e2))\n",
    "    T2 /= np.linalg.norm(T2, axis=1)[:,None]\n",
    "    \n",
    "    # Project on the local frame\n",
    "    c = np.zeros(hard_id.shape[0], dtype=np.complex128)\n",
    "    \n",
    "    for ci in range(hard_id.shape[0]):\n",
    "        f = hard_id[ci]\n",
    "        v = hard_value[ci, :]\n",
    "        \n",
    "        c[ci] = np.dot(v, T1[f, :]) + np.dot(v, T2[f, :])* 1j\n",
    "  \n",
    "    # Arrays for the entries of the matrix\n",
    "    data = []\n",
    "    ii = []\n",
    "    jj = []\n",
    "\n",
    "    index = 0\n",
    "    for f in range(F.shape[0]):\n",
    "        for ei in range(3): # Loop over the edges\n",
    "            \n",
    "            # Look up the opposite face\n",
    "            g = TT[f, ei]\n",
    "            \n",
    "            # If it is a boundary edge, it does not contribute to the energy\n",
    "            # or avoid to count every edge twice\n",
    "            if g == -1 or f > g:\n",
    "                continue\n",
    "                \n",
    "            # Compute the complex representation of the common edge\n",
    "            e  = V[F[f, (ei+1)%3], :] - V[F[f, ei], :]\n",
    "            \n",
    "            vef = np.array([np.dot(e, T1[f, :]), np.dot(e, T2[f, :])])\n",
    "            vef /= np.linalg.norm(vef)\n",
    "            ef = (vef[0] + vef[1]*1j).conjugate()\n",
    "            \n",
    "            veg = np.array([np.dot(e, T1[g, :]), np.dot(e, T2[g, :])])\n",
    "            veg /= np.linalg.norm(veg)\n",
    "            eg = (veg[0] + veg[1]*1j).conjugate()\n",
    "            \n",
    "            # Create the matrix Q and b\n",
    "            data.append(ef);  ii.append(index); jj.append(f)\n",
    "            data.append(-eg); ii.append(index); jj.append(g)\n",
    "\n",
    "            index += 1\n",
    "        \n",
    "    # Lhs of the system\n",
    "    A = sp.coo_matrix((data, (ii, jj)), shape=(index, F.shape[0])).asformat(\"csr\") \n",
    "    Q = A.H @ A\n",
    "    Q_prime = Q.copy().asformat(\"lil\")\n",
    "    Q_prime[:, hard_id] = 0\n",
    "    Q_prime[hard_id, :] = 0\n",
    "    Q_prime[hard_id, hard_id] = 1\n",
    "    # Rhs of the system\n",
    "    b = np.zeros(F.shape[0], dtype=np.complex128)\n",
    "    b = -Q[:, hard_id] @ c\n",
    "    b[hard_id] = c\n",
    "    # Solve the linear system\n",
    "    u = sp.linalg.spsolve(Q_prime.asformat(\"csr\"), b)\n",
    "    R = T1 * u.real[:,None] + T2 * u.imag[:,None]\n",
    "\n",
    "    return R"
   ]
  },
  {
   "cell_type": "code",
   "execution_count": 4,
   "metadata": {},
   "outputs": [],
   "source": [
    "def plot_mesh_field(V, F, R, constrain_faces):\n",
    "    # Highlight in red the constrained faces\n",
    "    col = np.ones_like(F)\n",
    "    col[constrain_faces, 1:] = 0\n",
    "    \n",
    "    # Scaling of the representative vectors\n",
    "    avg = igl.avg_edge_length(V, F)/2\n",
    "\n",
    "    #Plot from face barycenters\n",
    "    B = igl.barycenter(V, F)\n",
    "\n",
    "    p = mp.plot(V, F, c=col)\n",
    "    p.add_lines(B, B + R * avg)\n",
    "    \n",
    "    return p"
   ]
  },
  {
   "cell_type": "code",
   "execution_count": 5,
   "metadata": {},
   "outputs": [
    {
     "name": "stderr",
     "output_type": "stream",
     "text": [
      "D:\\Anaconda\\envs\\GM\\lib\\site-packages\\jupyter_client\\session.py:716: UserWarning: Message serialization failed with:\n",
      "Out of range float values are not JSON compliant\n",
      "Supporting this message is deprecated in jupyter-client 7, please make sure your message is JSON-compliant\n",
      "  content = self.pack(content)\n"
     ]
    },
    {
     "data": {
      "application/vnd.jupyter.widget-view+json": {
       "model_id": "36860d5b12d4431989e4f7c73b3e800b",
       "version_major": 2,
       "version_minor": 0
      },
      "text/plain": [
       "Renderer(camera=PerspectiveCamera(children=(DirectionalLight(color='white', intensity=0.6, position=(0.0, 0.0,…"
      ]
     },
     "metadata": {},
     "output_type": "display_data"
    },
    {
     "data": {
      "text/plain": [
       "<meshplot.Viewer.Viewer at 0x17f13f66e50>"
      ]
     },
     "execution_count": 5,
     "metadata": {},
     "output_type": "execute_result"
    }
   ],
   "source": [
    "R = align_field(v, f, tt, cf, c)\n",
    "plot_mesh_field(v, f, R, cf)"
   ]
  },
  {
   "cell_type": "markdown",
   "metadata": {},
   "source": [
    "# 2. Reconstructing a scalar field from a vector field"
   ]
  },
  {
   "cell_type": "markdown",
   "metadata": {},
   "source": [
    "![title](img_ipynb/2.png)"
   ]
  },
  {
   "cell_type": "code",
   "execution_count": 6,
   "metadata": {},
   "outputs": [],
   "source": [
    "def scalar_field(V, F, u):\n",
    "    A = sp.diags(np.tile(0.5 * igl.doublearea(V, F), 3))\n",
    "    G = igl.grad(V, F)\n",
    "    K = G.T @ A @ G\n",
    "    b = -2 * G.T @ A @ u\n",
    "    Lhs = K.T + K\n",
    "    Lhs[0, :] = 0\n",
    "    Lhs[:, 0] = 0\n",
    "    Lhs[0, 0] = 1\n",
    "    Rhs = -b\n",
    "    Rhs[0] = 0\n",
    "    s = sp.linalg.spsolve(Lhs, Rhs)\n",
    "    g = G @ s\n",
    "    g = np.reshape(g, f.shape, order='F')\n",
    "    return s, g"
   ]
  },
  {
   "cell_type": "code",
   "execution_count": 7,
   "metadata": {},
   "outputs": [],
   "source": [
    "def plot_scalar_field(V, F, s, g):\n",
    "    # Scaling of the representative vectors\n",
    "    avg = igl.avg_edge_length(V, F)/2\n",
    "\n",
    "    #Plot from face barycenters\n",
    "    B = igl.barycenter(V, F)\n",
    "\n",
    "    p = mp.plot(V, F, c=s)\n",
    "    p.add_lines(B, B + g * avg)\n",
    "    \n",
    "    return p"
   ]
  },
  {
   "cell_type": "code",
   "execution_count": 28,
   "metadata": {},
   "outputs": [],
   "source": [
    "def plot_error_field(V, F, R, g):\n",
    "    # Scaling of the representative vectors\n",
    "    avg = igl.avg_edge_length(V, F)/2\n",
    "\n",
    "    #Plot from face barycenters\n",
    "    B = igl.barycenter(V, F)\n",
    "\n",
    "    p = mp.plot(V, F, c=np.linalg.norm(R - g, ord=2, axis=1))\n",
    "\n",
    "    print(\"Poisson Error: \", sum(np.linalg.norm(R - g, ord=2, axis=1)))\n",
    "    \n",
    "    return p"
   ]
  },
  {
   "cell_type": "code",
   "execution_count": 29,
   "metadata": {},
   "outputs": [
    {
     "data": {
      "application/vnd.jupyter.widget-view+json": {
       "model_id": "aad01e4a16334942afd7905e3666c6ed",
       "version_major": 2,
       "version_minor": 0
      },
      "text/plain": [
       "Renderer(camera=PerspectiveCamera(children=(DirectionalLight(color='white', intensity=0.6, position=(0.0, 0.0,…"
      ]
     },
     "metadata": {},
     "output_type": "display_data"
    },
    {
     "data": {
      "application/vnd.jupyter.widget-view+json": {
       "model_id": "631452c7a49a4141bd9e17b54807f592",
       "version_major": 2,
       "version_minor": 0
      },
      "text/plain": [
       "Renderer(camera=PerspectiveCamera(children=(DirectionalLight(color='white', intensity=0.6, position=(0.0, 0.0,…"
      ]
     },
     "metadata": {},
     "output_type": "display_data"
    },
    {
     "name": "stdout",
     "output_type": "stream",
     "text": [
      "Poisson Error:  170.475020422073\n"
     ]
    },
    {
     "data": {
      "text/plain": [
       "<meshplot.Viewer.Viewer at 0x17f199e82e0>"
      ]
     },
     "execution_count": 29,
     "metadata": {},
     "output_type": "execute_result"
    }
   ],
   "source": [
    "s, g = scalar_field(v, f, R.T.flatten())\n",
    "plot_scalar_field(v, f, s, g)\n",
    "plot_error_field(v, f, R, g)"
   ]
  },
  {
   "cell_type": "markdown",
   "metadata": {},
   "source": [
    "# 3. Harmonic and LSCM Parameterizations"
   ]
  },
  {
   "cell_type": "code",
   "execution_count": 10,
   "metadata": {},
   "outputs": [],
   "source": [
    "v_camel, f_camel = igl.read_triangle_mesh(\"data/camel_head.off\")"
   ]
  },
  {
   "cell_type": "code",
   "execution_count": 11,
   "metadata": {},
   "outputs": [],
   "source": [
    "def harmonic(V, F):\n",
    "    # Find the open boundary\n",
    "    bnd = igl.boundary_loop(F)\n",
    "\n",
    "    # Map the boundary to a circle, preserving edge proportions\n",
    "    bnd_uv = igl.map_vertices_to_circle(V, bnd)\n",
    "\n",
    "    # Harmonic parametrization for the internal vertices\n",
    "    uv = igl.harmonic_weights(V, F, bnd, bnd_uv, 1)\n",
    "    \n",
    "    g = np.reshape(igl.grad(V, F) @ uv[:, 1], F.shape, order='F')\n",
    "    return g, uv\n"
   ]
  },
  {
   "cell_type": "code",
   "execution_count": 12,
   "metadata": {},
   "outputs": [],
   "source": [
    "def LSCM(V, F):\n",
    "    # Fix two points on the boundary\n",
    "    b = np.array([2, 1])\n",
    "\n",
    "    bnd = igl.boundary_loop(F)\n",
    "    b[0] = bnd[0]\n",
    "    b[1] = bnd[int(bnd.size / 2)]\n",
    "\n",
    "    bc = np.array([[0.0, 0.0], [1.0, 0.0]])\n",
    "\n",
    "    # LSCM parametrization\n",
    "    _, uv = igl.lscm(V, F, b, bc)\n",
    "\n",
    "    return uv"
   ]
  },
  {
   "cell_type": "code",
   "execution_count": 13,
   "metadata": {},
   "outputs": [],
   "source": [
    "def plot_parameterizations(V, F, uv_harmonic, uv_LSCM, g_harmonic):\n",
    "    v_p = np.hstack([uv_harmonic, np.zeros((uv_harmonic.shape[0], 1))])\n",
    "    p = mp.subplot(V, F, s=[1, 4, 0], uv=uv_harmonic)\n",
    "    mp.subplot(v_p, F, shading={\"wireframe\": True}, s=[1, 4, 1], data=p)\n",
    "\n",
    "    avg = igl.avg_edge_length(V, F) / 2\n",
    "    B = igl.barycenter(V, F)\n",
    "    pp = mp.plot(V, F, uv=uv_harmonic, return_plot=True)\n",
    "    pp.add_lines(B, B + g_harmonic * avg)\n",
    "    \n",
    "    mp.subplot(V, F, s=[1, 4, 2], uv=uv_LSCM, data=p)\n",
    "    mp.subplot(uv_LSCM, F, shading={\"wireframe\": True}, s=[1, 4, 3], data=p)\n",
    "\n"
   ]
  },
  {
   "cell_type": "code",
   "execution_count": 14,
   "metadata": {},
   "outputs": [
    {
     "data": {
      "application/vnd.jupyter.widget-view+json": {
       "model_id": "3dea7e5ee3b24335965dfcd9b2f8b073",
       "version_major": 2,
       "version_minor": 0
      },
      "text/plain": [
       "HBox(children=(Output(), Output(), Output(), Output()))"
      ]
     },
     "metadata": {},
     "output_type": "display_data"
    },
    {
     "data": {
      "application/vnd.jupyter.widget-view+json": {
       "model_id": "b6bd35def82d42d882064d341da8b2d9",
       "version_major": 2,
       "version_minor": 0
      },
      "text/plain": [
       "Renderer(camera=PerspectiveCamera(children=(DirectionalLight(color='white', intensity=0.6, position=(1.9967555…"
      ]
     },
     "metadata": {},
     "output_type": "display_data"
    }
   ],
   "source": [
    "g_harmonic, uv_harmonic = harmonic(v_camel, f_camel)\n",
    "uv_LSCM = LSCM(v_camel, f_camel)\n",
    "plot_parameterizations(v_camel, f_camel, uv_harmonic, uv_LSCM, g_harmonic)"
   ]
  },
  {
   "cell_type": "markdown",
   "metadata": {},
   "source": [
    "# 4. Editing a parameterization with vector fields"
   ]
  },
  {
   "cell_type": "markdown",
   "metadata": {},
   "source": [
    "## Editing the parameterization"
   ]
  },
  {
   "cell_type": "code",
   "execution_count": 20,
   "metadata": {},
   "outputs": [
    {
     "data": {
      "application/vnd.jupyter.widget-view+json": {
       "model_id": "e71068014f61442ca0769decbc267fc8",
       "version_major": 2,
       "version_minor": 0
      },
      "text/plain": [
       "HBox(children=(Output(), Output()))"
      ]
     },
     "metadata": {},
     "output_type": "display_data"
    },
    {
     "data": {
      "application/vnd.jupyter.widget-view+json": {
       "model_id": "3f8d9efcc25a4a3c8b5da580f2897c67",
       "version_major": 2,
       "version_minor": 0
      },
      "text/plain": [
       "Renderer(camera=PerspectiveCamera(children=(DirectionalLight(color='white', intensity=0.6, position=(0.0, 0.0,…"
      ]
     },
     "metadata": {},
     "output_type": "display_data"
    },
    {
     "data": {
      "text/plain": [
       "2"
      ]
     },
     "execution_count": 20,
     "metadata": {},
     "output_type": "execute_result"
    }
   ],
   "source": [
    "g_irrcyl, uv_irrcyl = harmonic(v, f)\n",
    "p = mp.subplot(v, f, uv=uv_irrcyl, s=[1,2,0])\n",
    "uv_edited = uv_irrcyl.copy()\n",
    "uv_edited[:, 1] = s\n",
    "mp.subplot(uv_edited, f, s=[1,2,1], shading={\"wireframe\": True}, data=p)\n",
    "\n",
    "p = mp.plot(v, f, uv=uv_edited)\n",
    "avg = igl.avg_edge_length(v, f) / 2\n",
    "B = igl.barycenter(v, f)\n",
    "p.add_lines(B, B + g * avg, shading={\"line_color\": \"red\"})\n",
    "p.add_lines(B, B + np.reshape(igl.grad(v, f) @ uv_irrcyl[:, 0], f.shape, order='F') * avg, shading={\"line_color\": \"blue\"})\n",
    "# p.add_lines(B, B + np.reshape(igl.grad(v, f) @ uv_irrcyl[:, 1], f.shape, order='F') * avg, shading={\"line_color\": \"green\"})"
   ]
  },
  {
   "cell_type": "markdown",
   "metadata": {},
   "source": [
    "## Detecting problems with the parameterization"
   ]
  },
  {
   "cell_type": "code",
   "execution_count": 16,
   "metadata": {},
   "outputs": [
    {
     "data": {
      "application/vnd.jupyter.widget-view+json": {
       "model_id": "9f4706b06e644b9684ba83490de9a54e",
       "version_major": 2,
       "version_minor": 0
      },
      "text/plain": [
       "Renderer(camera=PerspectiveCamera(children=(DirectionalLight(color='white', intensity=0.6, position=(0.0, 0.15…"
      ]
     },
     "metadata": {},
     "output_type": "display_data"
    }
   ],
   "source": [
    "v_p_edited = np.hstack([uv_edited, np.zeros((uv_edited.shape[0],1))])\n",
    "normal = igl.per_face_normals(v, f, np.array([0.0, 0.0, 0.0]))\n",
    "normal_edited = igl.per_face_normals(v_p_edited, f, np.array([0.0, 0.0, 0.0]))\n",
    "\n",
    "# normal = np.zeros(f.shape)\n",
    "# normal_edited = np.zeros(f.shape)\n",
    "# for fi in range(f.shape[0]):\n",
    "#     e1  = v[f[fi, 1], :] - v[f[fi, 0], :]\n",
    "#     e2 = v[f[fi, 2], :] - v[f[fi, 0], :]\n",
    "#     normal[fi, :] = np.cross(e1, e2)\n",
    "#     # normal[fi, :] /= np.linalg.norm(normal[fi, :])\n",
    "\n",
    "\n",
    "#     e3  = v_p_edited[f[fi, 1], :] - v_p_edited[f[fi, 0], :]\n",
    "#     e4 = v_p_edited[f[fi, 2], :] - v_p_edited[f[fi, 0], :]\n",
    "#     normal_edited[fi, :] = np.cross(e3, e4)\n",
    "#     # normal_edited[fi, :] /= np.linalg.norm(normal_edited[fi, :])\n",
    "\n",
    "col = np.ones_like(f)\n",
    "for i in range(f.shape[0]):\n",
    "    if np.dot(normal[i, :], normal_edited[i, :]) < 0:\n",
    "        col[i, 1:] = 0\n",
    "\n",
    "p = mp.plot(v_p_edited, f, shading={\"wireframe\": True}, c=col)"
   ]
  }
 ],
 "metadata": {
  "kernelspec": {
   "display_name": "Python 3 (ipykernel)",
   "language": "python",
   "name": "python3"
  },
  "language_info": {
   "codemirror_mode": {
    "name": "ipython",
    "version": 3
   },
   "file_extension": ".py",
   "mimetype": "text/x-python",
   "name": "python",
   "nbconvert_exporter": "python",
   "pygments_lexer": "ipython3",
   "version": "3.8.12"
  }
 },
 "nbformat": 4,
 "nbformat_minor": 4
}
