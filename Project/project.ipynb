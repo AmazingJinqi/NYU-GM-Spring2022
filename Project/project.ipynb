{
 "cells": [
  {
   "cell_type": "code",
   "execution_count": 14,
   "metadata": {},
   "outputs": [],
   "source": [
    "import numpy as np\n",
    "import igl\n",
    "import meshplot as mp"
   ]
  },
  {
   "cell_type": "code",
   "execution_count": 15,
   "metadata": {},
   "outputs": [
    {
     "data": {
      "application/vnd.jupyter.widget-view+json": {
       "model_id": "2e965965cc014127a6f8296fe35f98b3",
       "version_major": 2,
       "version_minor": 0
      },
      "text/plain": [
       "Renderer(camera=PerspectiveCamera(children=(DirectionalLight(color='white', intensity=0.6, position=(1.9967555…"
      ]
     },
     "metadata": {},
     "output_type": "display_data"
    }
   ],
   "source": [
    "v, f = igl.read_triangle_mesh('data/camel_head.off')\n",
    "p = mp.plot(v, f, shading={\"wireframe\": False})"
   ]
  },
  {
   "cell_type": "markdown",
   "metadata": {},
   "source": [
    "# Parametrization"
   ]
  },
  {
   "cell_type": "code",
   "execution_count": 16,
   "metadata": {},
   "outputs": [
    {
     "data": {
      "application/vnd.jupyter.widget-view+json": {
       "model_id": "07bf50b82c804270820c69856ad0c66c",
       "version_major": 2,
       "version_minor": 0
      },
      "text/plain": [
       "Renderer(camera=PerspectiveCamera(children=(DirectionalLight(color='white', intensity=0.6, position=(2.3782253…"
      ]
     },
     "metadata": {},
     "output_type": "display_data"
    }
   ],
   "source": [
    "def harmonic(V, F):\n",
    "    # Find the open boundary\n",
    "    bnd = igl.boundary_loop(F)\n",
    "    # Map the boundary to a circle, preserving edge proportions\n",
    "    bnd_uv = igl.map_vertices_to_circle(V, bnd)\n",
    "    # Harmonic parametrization for the internal vertices\n",
    "    uv = igl.harmonic_weights(V, F, bnd, bnd_uv, 1)\n",
    "    v_p = np.hstack([uv, np.zeros((uv.shape[0], 1))])\n",
    "\n",
    "    return v_p, uv\n",
    "\n",
    "v_p, uv = harmonic(v, f)\n",
    "p = mp.plot(v_p, f, shading={\"wireframe\": True, \"flat\": False})\n"
   ]
  },
  {
   "cell_type": "code",
   "execution_count": 30,
   "metadata": {},
   "outputs": [
    {
     "name": "stdout",
     "output_type": "stream",
     "text": [
      "[-0.00677135  0.05715331 -0.0040084  ... -0.00294987 -0.00178794\n",
      "  0.00819819]\n",
      "[  3.90350051 365.342306    44.02119289 ...  76.53926267 -10.95631333\n",
      "  34.14199442]\n"
     ]
    }
   ],
   "source": [
    "def area_distortion_map():\n",
    "    area3D = igl.doublearea(v, f)\n",
    "    area2D = igl.doublearea(v_p, f)\n",
    "    return area3D / area2D\n",
    "\n",
    "\n",
    "def gaussian_curvature_map():\n",
    "    _, _, k1, k2 = igl.principal_curvature(v, f)\n",
    "    return k1 * k2\n",
    "    \n",
    "\n",
    "def mean_curvature_map():\n",
    "    _, _, k1, k2 = igl.principal_curvature(v, f)\n",
    "    return 0.5 * (k1 + k2)\n"
   ]
  }
 ],
 "metadata": {
  "interpreter": {
   "hash": "a20ad943eabdc94fdbc3cb739aa8241bffda157155f9c0cb6d6e881d4a7015ac"
  },
  "kernelspec": {
   "display_name": "Python 3.9.7 ('base')",
   "language": "python",
   "name": "python3"
  },
  "language_info": {
   "codemirror_mode": {
    "name": "ipython",
    "version": 3
   },
   "file_extension": ".py",
   "mimetype": "text/x-python",
   "name": "python",
   "nbconvert_exporter": "python",
   "pygments_lexer": "ipython3",
   "version": "3.9.7"
  },
  "orig_nbformat": 4
 },
 "nbformat": 4,
 "nbformat_minor": 2
}
