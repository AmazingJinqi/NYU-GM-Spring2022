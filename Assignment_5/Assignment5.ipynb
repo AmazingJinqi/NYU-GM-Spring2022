{
 "cells": [
  {
   "cell_type": "code",
   "execution_count": 1,
   "id": "local-investor",
   "metadata": {},
   "outputs": [],
   "source": [
    "import numpy as np\n",
    "import igl\n",
    "import meshplot as mp\n",
    "from scipy.spatial.transform import Rotation\n",
    "import ipywidgets as iw\n",
    "import time\n",
    "import scipy.sparse as sp\n",
    "from scipy.linalg import cho_factor, cho_solve\n",
    "from numba import jit\n",
    "from scipy.sparse.linalg import splu"
   ]
  },
  {
   "cell_type": "code",
   "execution_count": 2,
   "id": "df585d65",
   "metadata": {},
   "outputs": [],
   "source": [
    "option = 2  # 0 to show step 2; 1 to show step 3; 2 to show Optional(jit); 3 to show Optional(enisum)"
   ]
  },
  {
   "cell_type": "code",
   "execution_count": 3,
   "id": "pharmaceutical-transsexual",
   "metadata": {},
   "outputs": [
    {
     "name": "stderr",
     "output_type": "stream",
     "text": [
      "D:\\Anaconda\\envs\\GM\\lib\\site-packages\\jupyter_client\\session.py:716: UserWarning: Message serialization failed with:\n",
      "Out of range float values are not JSON compliant\n",
      "Supporting this message is deprecated in jupyter-client 7, please make sure your message is JSON-compliant\n",
      "  content = self.pack(content)\n"
     ]
    },
    {
     "data": {
      "application/vnd.jupyter.widget-view+json": {
       "model_id": "eb405ee07f7240f08978097e4fdf43cf",
       "version_major": 2,
       "version_minor": 0
      },
      "text/plain": [
       "Renderer(camera=PerspectiveCamera(children=(DirectionalLight(color='white', intensity=0.6, position=(0.4306930…"
      ]
     },
     "metadata": {},
     "output_type": "display_data"
    }
   ],
   "source": [
    "v, f = igl.read_triangle_mesh('data/woody-hi.off')\n",
    "labels = np.load('data/woody-hi.label.npy').astype(int)\n",
    "v -= v.min(axis=0)\n",
    "v /= v.max()\n",
    "p = mp.plot(v, f, c=labels, shading={\"wireframe\": False})"
   ]
  },
  {
   "cell_type": "code",
   "execution_count": 4,
   "id": "stone-element",
   "metadata": {},
   "outputs": [],
   "source": [
    "def widgets_wrapper():\n",
    "    segment_widget = iw.Dropdown(options=np.arange(labels.max()) + 1)\n",
    "    translate_widget = {i:iw.FloatSlider(min=-1, max=1, value=0) \n",
    "                        for i in 'xyz'}\n",
    "    rotate_widget = {a:iw.FloatSlider(min=-90, max=90, value=0, step=1) \n",
    "                     for a in 'αβγ'}\n",
    "\n",
    "    def update_seg(*args):\n",
    "        (translate_widget['x'].value,translate_widget['y'].value,\n",
    "        translate_widget['z'].value,\n",
    "        rotate_widget['α'].value,rotate_widget['β'].value,\n",
    "        rotate_widget['γ'].value) = pos_f_saver[segment_widget.value]\n",
    "    segment_widget.observe(update_seg, 'value')\n",
    "    widgets_dict = dict(s=segment_widget)\n",
    "    widgets_dict.update(translate_widget)\n",
    "    widgets_dict.update(rotate_widget)\n",
    "    return widgets_dict"
   ]
  },
  {
   "cell_type": "markdown",
   "id": "a00624e4",
   "metadata": {},
   "source": [
    "## Step 1:"
   ]
  },
  {
   "cell_type": "code",
   "execution_count": 5,
   "id": "b1113629",
   "metadata": {},
   "outputs": [],
   "source": [
    "Lw = igl.cotmatrix(v, f)\n",
    "M = igl.massmatrix(v, f, igl.MASSMATRIX_TYPE_BARYCENTRIC)\n",
    "M_inverse = sp.diags(1 / M.data)\n",
    "\n",
    "A = Lw @ M_inverse @ Lw\n",
    "Aff = A[labels==0, :][:, labels==0]\n",
    "Afc = A[labels==0, :][:, labels>0]\n",
    "\n",
    "if option == 2 or option == 3:\n",
    "    c, low = cho_factor(Aff.todense(), lower=True)"
   ]
  },
  {
   "cell_type": "code",
   "execution_count": 6,
   "id": "b8f6cc60",
   "metadata": {},
   "outputs": [],
   "source": [
    "def deform_smooth_mesh(handle_vertex_positions):\n",
    "    xc = handle_vertex_positions[labels>0, :]\n",
    "\n",
    "    x = sp.linalg.spsolve(Aff, -Afc @ xc)\n",
    "    v_smooth = handle_vertex_positions.copy()\n",
    "    v_smooth[labels==0] = x\n",
    "\n",
    "    return v_smooth\n"
   ]
  },
  {
   "cell_type": "code",
   "execution_count": 7,
   "id": "07cc8115",
   "metadata": {},
   "outputs": [],
   "source": [
    "def deform_smooth_mesh_optional(handle_vertex_positions):\n",
    "    xc = handle_vertex_positions[labels>0, :]\n",
    "\n",
    "    x = cho_solve((c, low), -Afc @ xc, check_finite=False)\n",
    "    v_smooth = handle_vertex_positions.copy()\n",
    "    v_smooth[labels==0] = x\n",
    "\n",
    "    return v_smooth\n"
   ]
  },
  {
   "cell_type": "code",
   "execution_count": 8,
   "id": "6c6ff7ed",
   "metadata": {},
   "outputs": [
    {
     "data": {
      "application/vnd.jupyter.widget-view+json": {
       "model_id": "42c5b62e0fc2440c92403db44d6d4770",
       "version_major": 2,
       "version_minor": 0
      },
      "text/plain": [
       "Renderer(camera=PerspectiveCamera(children=(DirectionalLight(color='white', intensity=0.6, position=(0.4306930…"
      ]
     },
     "metadata": {},
     "output_type": "display_data"
    }
   ],
   "source": [
    "if option < 2:\n",
    "    v_smooth_original = deform_smooth_mesh(v)\n",
    "elif option == 2 or option == 3:\n",
    "    v_smooth_original = deform_smooth_mesh_optional(v)\n",
    "p = mp.plot(v_smooth_original, f, c=labels)"
   ]
  },
  {
   "cell_type": "markdown",
   "id": "7cff867e",
   "metadata": {},
   "source": [
    "## Step 2 & 3:"
   ]
  },
  {
   "cell_type": "code",
   "execution_count": 9,
   "id": "71d8c073",
   "metadata": {},
   "outputs": [],
   "source": [
    "def encode_displacements(v_smooth_original):\n",
    "    d = v - v_smooth_original\n",
    "    normals_original = igl.per_vertex_normals(v_smooth_original, f)\n",
    "    neighbors = igl.adjacency_list(f)\n",
    "    j_longest = np.zeros(v.shape[0], dtype=np.int16)\n",
    "    di = np.zeros_like(v)\n",
    "    for i in range(v.shape[0]): \n",
    "        ni = normals_original[i]\n",
    "        edges = v_smooth_original[neighbors[i]] - v_smooth_original[i]\n",
    "        projected_edges = edges - edges @ ni[:, None] * ni\n",
    "        neighbors_index = np.argmax(np.linalg.norm(projected_edges, axis=1))\n",
    "        j_longest[i] = neighbors[i][neighbors_index]\n",
    "        xi = projected_edges[neighbors_index]\n",
    "        xi /= np.linalg.norm(xi)\n",
    "        yi = np.cross(ni, xi)\n",
    "        di[i] = np.array([d[i] @ xi, d[i] @ yi, d[i] @ ni])\n",
    "    \n",
    "\n",
    "    return di, j_longest\n",
    "\n",
    "di, j_longest = encode_displacements(v_smooth_original)"
   ]
  },
  {
   "cell_type": "code",
   "execution_count": 10,
   "id": "ab3dbd6d",
   "metadata": {},
   "outputs": [],
   "source": [
    "def transfer_details(v_smooth_handle, di, j_longest):\n",
    "    ni_prime = igl.per_vertex_normals(v_smooth_handle, f)\n",
    "    v_detailed = v_smooth_handle.copy()\n",
    "    edges = v_smooth_handle[j_longest] - v_smooth_handle\n",
    "    xi_prime = np.empty_like(ni_prime)\n",
    "    di_prime = np.empty_like(ni_prime)\n",
    "\n",
    "    xi_prime = edges - np.sum(edges * ni_prime, axis=1).reshape(-1, 1) * ni_prime\n",
    "    xi_prime /= np.linalg.norm(xi_prime).reshape(-1, 1)\n",
    "    yi_prime = np.cross(ni_prime, xi_prime)\n",
    "    for i in range(v.shape[0]):\n",
    "        di_prime[i] = di[i] @ np.vstack((xi_prime[i], yi_prime[i], ni_prime[i]))\n",
    "    \n",
    "    v_detailed += di_prime\n",
    "    \n",
    "    return v_detailed"
   ]
  },
  {
   "cell_type": "code",
   "execution_count": 11,
   "id": "4a688726",
   "metadata": {},
   "outputs": [],
   "source": [
    "@jit(nopython=True)\n",
    "def transfer_details_optional_jit(ni_prime, v_smooth_handle, di, j_longest):\n",
    "    v_detailed = v_smooth_handle.copy()\n",
    "    edges = v_smooth_handle[j_longest] - v_smooth_handle\n",
    "    xi_prime = np.empty_like(ni_prime)\n",
    "    di_prime = np.empty_like(ni_prime)\n",
    "    \n",
    "    xi_prime = edges - np.sum(edges * ni_prime, axis=1).reshape(-1, 1) * ni_prime\n",
    "    for i in range(v.shape[0]):\n",
    "        xi_prime[i] /= np.linalg.norm(xi_prime[i])\n",
    "\n",
    "    yi_prime = np.cross(ni_prime, xi_prime)\n",
    "\n",
    "    for i in range(v.shape[0]):\n",
    "        di_prime[i] = di[i] @ np.vstack((xi_prime[i], yi_prime[i], ni_prime[i]))\n",
    "    \n",
    "    v_detailed += di_prime\n",
    "    \n",
    "    return v_detailed"
   ]
  },
  {
   "cell_type": "code",
   "execution_count": 12,
   "id": "8c5b229c",
   "metadata": {},
   "outputs": [],
   "source": [
    "def transfer_details_optional_enisum(ni_prime, v_smooth_handle, di, j_longest):\n",
    "    v_detailed = v_smooth_handle.copy()\n",
    "    edges = v_smooth_handle[j_longest] - v_smooth_handle\n",
    "    xi_prime = np.empty_like(ni_prime)\n",
    "    di_prime = np.empty_like(ni_prime)\n",
    "    \n",
    "    xi_prime = edges - np.einsum('ij,ij->i', edges, ni_prime)[:, None] * ni_prime\n",
    "    xi_prime /= np.linalg.norm(xi_prime, axis=1)[:, None]\n",
    "\n",
    "    yi_prime = np.cross(ni_prime, xi_prime)\n",
    "\n",
    "    for i in range(v.shape[0]):\n",
    "        di_prime[i] = np.einsum('i,ij', di[i], np.vstack((xi_prime[i], yi_prime[i], ni_prime[i])))\n",
    "\n",
    "    v_detailed += di_prime\n",
    "    \n",
    "    return v_detailed"
   ]
  },
  {
   "cell_type": "code",
   "execution_count": 13,
   "id": "tight-course",
   "metadata": {},
   "outputs": [],
   "source": [
    "handle_vertex_positions = v.copy()\n",
    "pos_f_saver = np.zeros((labels.max() + 1, 6))\n",
    "def pos_f(s,x,y,z, α, β, γ):\n",
    "    slices = (labels==s)\n",
    "    r = Rotation.from_euler('xyz', [α, β, γ], degrees=True)\n",
    "    v_slice = v[slices] + np.array([[x,y,z]])\n",
    "    center = v_slice.mean(axis=0)\n",
    "    handle_vertex_positions[slices] = r.apply(v_slice - center) + center\n",
    "    pos_f_saver[s - 1] = [x,y,z,α,β,γ]\n",
    "    t0 = time.time()\n",
    "    v_deformed = pos_f.deformer(handle_vertex_positions)\n",
    "    p.update_object(vertices = v_deformed)\n",
    "    t1 = time.time()\n",
    "    print('FPS', 1/(t1 - t0))"
   ]
  },
  {
   "cell_type": "code",
   "execution_count": 14,
   "id": "divine-variety",
   "metadata": {},
   "outputs": [],
   "source": [
    "\n",
    "def position_deformer(target_pos):\n",
    "    '''Fill in this function to change positions'''\n",
    "    if option == 0:\n",
    "        v_smooth_handle = deform_smooth_mesh(target_pos)\n",
    "        return v_smooth_handle\n",
    "    elif option == 1:\n",
    "        v_smooth_handle = deform_smooth_mesh(target_pos)\n",
    "        v_detailed = transfer_details(v_smooth_handle, di, j_longest)\n",
    "        return v_detailed\n",
    "    elif option == 2:\n",
    "        v_smooth_handle = deform_smooth_mesh_optional(target_pos)\n",
    "        # pp = mp.plot(v_smooth_handle, f, c=labels, shading={\"wireframe\": False})\n",
    "        ni_prime = igl.per_vertex_normals(v_smooth_handle, f)\n",
    "        v_detailed = transfer_details_optional_jit(ni_prime, v_smooth_handle, di, j_longest)\n",
    "        return v_detailed\n",
    "    elif option == 3:\n",
    "        v_smooth_handle = deform_smooth_mesh_optional(target_pos)\n",
    "        # pp = mp.plot(v_smooth_handle, f, c=labels, shading={\"wireframe\": False})\n",
    "        ni_prime = igl.per_vertex_normals(v_smooth_handle, f)\n",
    "        v_detailed = transfer_details_optional_enisum(ni_prime, v_smooth_handle, di, j_longest)\n",
    "        return v_detailed\n",
    "        \n",
    "# (Optional) Register this function to perform interactive deformation\n",
    "pos_f.deformer = position_deformer"
   ]
  },
  {
   "cell_type": "code",
   "execution_count": 15,
   "id": "c71eba3d",
   "metadata": {},
   "outputs": [
    {
     "data": {
      "application/vnd.jupyter.widget-view+json": {
       "model_id": "90581c78f83e48acab4326b9d5475101",
       "version_major": 2,
       "version_minor": 0
      },
      "text/plain": [
       "Renderer(camera=PerspectiveCamera(children=(DirectionalLight(color='white', intensity=0.6, position=(0.4306930…"
      ]
     },
     "metadata": {},
     "output_type": "display_data"
    },
    {
     "data": {
      "application/vnd.jupyter.widget-view+json": {
       "model_id": "396a3b1371af4d4bbb7891d866504f86",
       "version_major": 2,
       "version_minor": 0
      },
      "text/plain": [
       "interactive(children=(Dropdown(description='s', options=(1, 2, 3, 4, 5), value=1), FloatSlider(value=0.0, desc…"
      ]
     },
     "metadata": {},
     "output_type": "display_data"
    },
    {
     "data": {
      "text/plain": [
       "<function __main__.pos_f(s, x, y, z, α, β, γ)>"
      ]
     },
     "execution_count": 15,
     "metadata": {},
     "output_type": "execute_result"
    }
   ],
   "source": [
    "## Widget UI\n",
    "\n",
    "p = mp.plot(handle_vertex_positions, f, c=labels, shading={\"wireframe\": False})\n",
    "iw.interact(pos_f,\n",
    "            **widgets_wrapper())"
   ]
  }
 ],
 "metadata": {
  "kernelspec": {
   "display_name": "Python 3",
   "language": "python",
   "name": "python3"
  },
  "language_info": {
   "codemirror_mode": {
    "name": "ipython",
    "version": 3
   },
   "file_extension": ".py",
   "mimetype": "text/x-python",
   "name": "python",
   "nbconvert_exporter": "python",
   "pygments_lexer": "ipython3",
   "version": "3.8.12"
  }
 },
 "nbformat": 4,
 "nbformat_minor": 5
}
